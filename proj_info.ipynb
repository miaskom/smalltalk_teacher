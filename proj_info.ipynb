{
 "cells": [
  {
   "cell_type": "markdown",
   "metadata": {},
   "source": [
    "# SmallTalk Teacher\n",
    "\n",
    "\n",
    "- apka rzuca pytanie/zagadnienie z jakiejś branży wybranej na sidebarze z coboboxa (np. bankowość, jedzenie, restauracja, zakupy, polityka, biznes, gospodarka) \n",
    "- czyta pytanie userowi\n",
    "- user odpowiada (nagrywa swoją odpowiedż), \n",
    "- apka robi transkrypcje wypowiedzi w języku obcym i pokazuje wypowiedź usera\n",
    "- apka informuje czy wypowiedź jest poprawna czy zawiera błędy a jeśli tak to pokazuje  proponowaną poprawioną wersję  - i czyta ją na głos\n",
    "- apka zamieszcza uzasadnienie co było źle i dlaczego - czyta to w wersji audio\n",
    "- konwersacje zapisuje w bazie QDrant i daje możliwość wyszukiwania konwersacji po opisie\n",
    "\n",
    "\n",
    "- W wersji PLUS (pewnie w przyszłosci) cache'owanie mp3 z poprawionymi wypowiedziami i uzasadnieniami \"nauczyciela\"\n"
   ]
  }
 ],
 "metadata": {
  "kernelspec": {
   "display_name": "audio_notes_app",
   "language": "python",
   "name": "python3"
  },
  "language_info": {
   "name": "python",
   "version": "3.11.8"
  }
 },
 "nbformat": 4,
 "nbformat_minor": 2
}
